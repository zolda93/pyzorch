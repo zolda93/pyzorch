{
 "cells": [
  {
   "cell_type": "code",
   "execution_count": 1,
   "id": "c6cd2e0f",
   "metadata": {},
   "outputs": [],
   "source": [
    "import zorch\n",
    "from zorch import nn"
   ]
  },
  {
   "cell_type": "code",
   "execution_count": 2,
   "id": "0f068f84",
   "metadata": {},
   "outputs": [
    {
     "name": "stdout",
     "output_type": "stream",
     "text": [
      "tensor([[-1.472 ,  0.2299,  0.6585,  0.1417,  0.4807],\n",
      "        [-0.4324, -0.1591,  0.0951,  0.712 , -0.5563],\n",
      "        [-2.0355, -0.6186, -0.8118, -0.8713, -1.3217]], requires_grad=True)\n",
      "tensor([[-1.9147, -0.0261,  1.1282,  0.4238, -0.3867],\n",
      "        [-0.278 ,  0.3541,  0.8448,  0.0447, -0.292 ],\n",
      "        [ 1.6003, -0.5056, -1.4045, -0.3099, -0.011 ]])\n",
      "tensor(0.7254, requires_grad=True)\n",
      "1.0\n",
      "[[ 0.0667  0.0667 -0.0667 -0.0667  0.0667]\n",
      " [-0.0667 -0.0667 -0.0667  0.0667 -0.0667]\n",
      " [-0.0667 -0.0667  0.0667 -0.0667 -0.0667]]\n"
     ]
    }
   ],
   "source": [
    "loss = nn.L1Loss()\n",
    "input = zorch.Tensor([[-1.4720,  0.2299,  0.6585,  0.1417,  0.4807],\n",
    "        [-0.4324, -0.1591,  0.0951,  0.7120, -0.5563],\n",
    "        [-2.0355, -0.6186, -0.8118, -0.8713, -1.3217]],requires_grad = True)\n",
    "target = zorch.Tensor([[-1.9147, -0.0261,  1.1282,  0.4238, -0.3867],\n",
    "        [-0.2780,  0.3541,  0.8448,  0.0447, -0.2920],\n",
    "        [ 1.6003, -0.5056, -1.4045, -0.3099, -0.0110]])\n",
    "\n",
    "output = loss(input, target)\n",
    "output.backward()\n",
    "\n",
    "print(input)\n",
    "print(target)\n",
    "print(output)\n",
    "print(output.grad)\n",
    "print(input.grad)"
   ]
  },
  {
   "cell_type": "code",
   "execution_count": null,
   "id": "81925745",
   "metadata": {},
   "outputs": [],
   "source": []
  }
 ],
 "metadata": {
  "kernelspec": {
   "display_name": "Python 3",
   "language": "python",
   "name": "python3"
  },
  "language_info": {
   "codemirror_mode": {
    "name": "ipython",
    "version": 3
   },
   "file_extension": ".py",
   "mimetype": "text/x-python",
   "name": "python",
   "nbconvert_exporter": "python",
   "pygments_lexer": "ipython3",
   "version": "3.7.13"
  }
 },
 "nbformat": 4,
 "nbformat_minor": 5
}
