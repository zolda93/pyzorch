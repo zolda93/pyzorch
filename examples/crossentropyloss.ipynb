{
 "cells": [
  {
   "cell_type": "code",
   "execution_count": 1,
   "id": "3a86ee4e",
   "metadata": {},
   "outputs": [],
   "source": [
    "import zorch\n",
    "from zorch import nn"
   ]
  },
  {
   "cell_type": "code",
   "execution_count": 2,
   "id": "e0d45929",
   "metadata": {},
   "outputs": [
    {
     "name": "stdout",
     "output_type": "stream",
     "text": [
      "tensor([[ 1.2675, -0.3498,  0.7861,  1.9004,  1.02  ],\n",
      "        [-1.7069,  0.7443, -1.0937,  0.0126,  0.1935],\n",
      "        [-0.1272, -0.444 ,  1.696 , -0.3046, -0.0027]], requires_grad=True)\n",
      "tensor([1, 0, 1])\n",
      "tensor(3.0036,grad_fn=<NllLossBackward0>)\n",
      "1.0\n",
      "[[ 0.0744 -0.3186  0.046   0.1401  0.0581]\n",
      " [-0.3209  0.1447  0.023   0.0696  0.0834]\n",
      " [ 0.0337 -0.3088  0.2087  0.0282  0.0382]]\n"
     ]
    }
   ],
   "source": [
    "loss = nn.CrossEntropyLoss()\n",
    "input = zorch.tensor([[ 1.2675, -0.3498,  0.7861,  1.9004,  1.0200],\n",
    "        [-1.7069,  0.7443, -1.0937,  0.0126,  0.1935],\n",
    "        [-0.1272, -0.4440,  1.6960, -0.3046, -0.0027]],requires_grad=True)\n",
    "target = zorch.tensor([1, 0, 1]).astype(int)\n",
    "output = loss(input, target)\n",
    "print(input)\n",
    "print(target)\n",
    "print(output)\n",
    "\n",
    "output.backward()\n",
    "print(output.grad)\n",
    "print(input.grad)"
   ]
  },
  {
   "cell_type": "code",
   "execution_count": null,
   "id": "4baf5604",
   "metadata": {},
   "outputs": [],
   "source": []
  }
 ],
 "metadata": {
  "kernelspec": {
   "display_name": "Python 3",
   "language": "python",
   "name": "python3"
  },
  "language_info": {
   "codemirror_mode": {
    "name": "ipython",
    "version": 3
   },
   "file_extension": ".py",
   "mimetype": "text/x-python",
   "name": "python",
   "nbconvert_exporter": "python",
   "pygments_lexer": "ipython3",
   "version": "3.7.13"
  }
 },
 "nbformat": 4,
 "nbformat_minor": 5
}
